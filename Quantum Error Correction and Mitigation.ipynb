{
 "cells": [
  {
   "cell_type": "code",
   "execution_count": 1,
   "id": "7dc1ab98-63f9-4ee8-85c0-5478e42ccdd7",
   "metadata": {},
   "outputs": [],
   "source": [
    "# Importing standard Qiskit libraries\n",
    "from qiskit import QuantumCircuit, transpile\n",
    "from qiskit.tools.jupyter import *\n",
    "from qiskit.visualization import *\n",
    "from ibm_quantum_widgets import *\n",
    "\n",
    "# qiskit-ibmq-provider has been deprecated.\n",
    "# Please see the Migration Guides in https://ibm.biz/provider_migration_guide for more detail.\n",
    "from qiskit_ibm_runtime import QiskitRuntimeService, Sampler, Estimator, Session, Options\n",
    "\n",
    "# Loading your IBM Quantum account(s)\n",
    "service = QiskitRuntimeService(channel=\"ibm_quantum\")\n",
    "\n",
    "# Invoke a primitive. For more details see https://qiskit.org/documentation/partners/qiskit_ibm_runtime/tutorials.html\n",
    "# result = Sampler(\"ibmq_qasm_simulator\").run(circuits).result()"
   ]
  },
  {
   "cell_type": "markdown",
   "id": "b36d9302-b926-4917-a839-c813de2d5b46",
   "metadata": {},
   "source": [
    "<a id = \"badge4_code\"></a>\n",
    "\n",
    "<div class=\"alert alert-block alert-success\">\n",
    "    \n",
    "<b> Coding Question: Use the Sampler Primitive with a Qiskit Runtime Session to run the circuit _qc_ twice on a noisy simulator with 4000 shots, once with no error mitigation and once with M3 error mitigation, and obtain the quasi-distribution output for each result.\n",
    "    \n",
    "</div>"
   ]
  },
  {
   "cell_type": "markdown",
   "id": "98135041-6f39-4076-98f7-09c6efe19dcf",
   "metadata": {},
   "source": [
    "<details><summary><b>Click to expand for hints.</b></summary>\n",
    "<p>\n",
    "    \n",
    "\n",
    "- **[Documentation - Help on noisy simulators](https://qiskit.org/documentation/partners/qiskit_ibm_runtime/how_to/noisy_simulators.html#running-a-noisy-simulation)**\n",
    "- **[Documentation - Sampler](https://qiskit.org/documentation/partners/qiskit_ibm_runtime/tutorials/how-to-getting-started-with-sampler.html)**\n",
    "- **[Documentation - Options](https://qiskit.org/documentation/partners/qiskit_ibm_runtime/stubs/qiskit_ibm_runtime.options.Options.html#options)**\n",
    "- **[Documentation - Configuring error mitigation](https://qiskit.org/documentation/partners/qiskit_ibm_runtime/how_to/error-mitigation.html)**\n",
    "- **[Documentation - Running primitives in a session](https://qiskit.org/documentation/partners/qiskit_ibm_runtime/how_to/run_session.html)**\n",
    "- When setting up your sampler instances for each run, use 'sim' to define the simulator options and make sure to use the relevant options you defined.\n",
    "- Your quasi-distributions must be `dict` type, not a list or any other type. \n",
    "    \n",
    "</p>\n",
    "</details>"
   ]
  },
  {
   "cell_type": "code",
   "execution_count": 9,
   "id": "66a0aa1f-b31a-4a41-a35f-df1d8a25bbb5",
   "metadata": {},
   "outputs": [
    {
     "data": {
      "image/png": "[encoded data removed]",
      "text/plain": [
       "<Figure size 580.387x284.278 with 1 Axes>"
      ]
     },
     "execution_count": 9,
     "metadata": {},
     "output_type": "execute_result"
    }
   ],
   "source": [
    "# Do not edit this code. Use this circuit in your answers.\n",
    "from qiskit import QuantumCircuit\n",
    "\n",
    "qc = QuantumCircuit(2)\n",
    "qc.h(0)\n",
    "qc.x(1)\n",
    "qc.cx(0,1)\n",
    "#qc.h(0)\n",
    "qc.measure_all()\n",
    "qc.draw()"
   ]
  },
  {
   "cell_type": "code",
   "execution_count": 10,
   "id": "d099be96-cc8a-4143-85cf-3f99cd6f0dfb",
   "metadata": {},
   "outputs": [
    {
     "name": "stdout",
     "output_type": "stream",
     "text": [
      "<IBMBackend('ibmq_qasm_simulator')>\n",
      "Running your session, please be patient...\n",
      "Quasi-distribution with no error mitigation: {1: 0.489, 2: 0.511}\n",
      "Quasi-distribution with error mitigation: {1: 0.494, 2: 0.506}\n"
     ]
    }
   ],
   "source": [
    "from qiskit_ibm_runtime import QiskitRuntimeService, Session, Options, Sampler\n",
    "from qiskit.providers.fake_provider import FakeManila\n",
    "from qiskit_aer.noise import NoiseModel\n",
    "import numpy as np\n",
    "# Save the Runtime account credentials if you have not done so already\n",
    "# If you need to overwrite the account info, please add `overwrite=True`\n",
    "# QiskitRuntimeService.save_account(channel='ibm_quantum', token='my_token', overwrite=True)\n",
    "\n",
    "service = QiskitRuntimeService(channel='ibm_quantum')\n",
    "backend = service.get_backend('ibmq_qasm_simulator')\n",
    "print(backend)\n",
    "\n",
    "# Obtaining the noise model we will apply to the backend we obtained above\n",
    "fake_backend = FakeManila()\n",
    "noise_model = NoiseModel.from_backend(fake_backend)\n",
    "\n",
    "# Use this when defining the simulator in your options instances\n",
    "sim = {\n",
    "    \"noise_model\": noise_model,\n",
    "    \"seed_simulator\": 42, # Do not change this value. Doing so may result in your answer being marked as incorrect.\n",
    "}\n",
    "\n",
    "####### build your code below #########\n",
    "\n",
    "#phases = np.linspace(0, 2*np.pi, 2)\n",
    "\n",
    "#individual_phases = [[ph] for ph in phases]\n",
    "\n",
    "options = Options(sim,resilience_level=0) # options with no error mitigation\n",
    "\n",
    "options_with_m3 = Options(sim,resilience_level=1) # options with M3 error mitigation\n",
    "\n",
    "options.execution.shots = 4000\n",
    "options.optimization_level = 1\n",
    "\n",
    "options_with_m3.execution.shots = 4000\n",
    "options_with_m3.optimization_level = 1\n",
    "\n",
    "with Session(service=service, backend=backend):\n",
    "    # no error mitigation\n",
    "    sampler = Sampler(options=options)\n",
    "    job = sampler.run(circuits=qc)\n",
    "    results_no_em = job.result()\n",
    "    quasi_dist_no_em = results_no_em.quasi_dists[0]\n",
    "    \n",
    "    # apply M3 error mitigation\n",
    "    sampler = Sampler(options=options_with_m3)\n",
    "    job = sampler.run(circuits=qc)\n",
    "    results_with_m3 = job.result()\n",
    "    quasi_dist_with_m3 =  results_with_m3.quasi_dists[0]\n",
    "    \n",
    "\n",
    "####### build your code above #########\n",
    "\n",
    "print(\"Running your session, please be patient...\")\n",
    "print(f\"Quasi-distribution with no error mitigation: {quasi_dist_no_em}\")\n",
    "print(f\"Quasi-distribution with error mitigation: {quasi_dist_with_m3}\")"
   ]
  },
  {
   "cell_type": "code",
   "execution_count": 11,
   "id": "35910203-bd58-4c9b-9e1c-8497b15bff7c",
   "metadata": {
    "tags": []
   },
   "outputs": [
    {
     "name": "stdout",
     "output_type": "stream",
     "text": [
      "<IBMBackend('ibmq_qasm_simulator')>\n"
     ]
    }
   ],
   "source": [
    "from qiskit.providers.fake_provider import FakeManila\n",
    "from qiskit_aer.noise import NoiseModel\n",
    "from qiskit_ibm_runtime import QiskitRuntimeService, Session, Options, Sampler\n",
    "# Import FakeBackend\n",
    "fake_backend = FakeManila()\n",
    "noise_model = NoiseModel.from_backend(fake_backend)\n",
    "\n",
    "service = QiskitRuntimeService(channel='ibm_quantum')\n",
    "backend = service.get_backend('ibmq_qasm_simulator')\n",
    "print(backend)\n",
    "\n",
    "# Set options to include noise_model\n",
    "options = Options(simulator={\n",
    "    \"noise_model\": noise_model,\n",
    "    \"seed_simulator\": 42,\n",
    "}, resilience_level=0)\n",
    "\n",
    "# Set options to include noise_model and resilience_level\n",
    "options_with_em = Options(\n",
    "    simulator={\n",
    "        \"noise_model\": noise_model,\n",
    "        \"seed_simulator\": 42,\n",
    "    },  \n",
    "    resilience_level=1\n",
    ")"
   ]
  },
  {
   "cell_type": "code",
   "execution_count": 13,
   "id": "d5daef13-a19e-44a9-baf9-27197ec68e9f",
   "metadata": {
    "tags": []
   },
   "outputs": [
    {
     "name": "stdout",
     "output_type": "stream",
     "text": [
      "Quasi-distribution with no error mitigation: {1: 0.369, 0: 0.13975, 2: 0.45875, 3: 0.0325}\n"
     ]
    }
   ],
   "source": [
    "from qiskit_ibm_runtime import QiskitRuntimeService, Session, Options, Sampler\n",
    "with Session(service=service, backend=backend):\n",
    "    sampler = Sampler(options=options)\n",
    "    #job = sampler.run(circuits=[qc]*len(phases), parameter_values=individual_phases)\n",
    "    job = sampler.run(circuits=qc)\n",
    "    results_no_em = job.result()\n",
    "    quasi_dist_no_em = results_no_em.quasi_dists[0]\n",
    "    print(f\"Quasi-distribution with no error mitigation: {quasi_dist_no_em}\")\n",
    "    #prob_values = [1-dist[0] for dist in param_results.quasi_dists]\n",
    "    \n",
    "    "
   ]
  },
  {
   "cell_type": "code",
   "execution_count": 14,
   "id": "5e9594ae-8a53-492e-a709-17998a717513",
   "metadata": {
    "tags": []
   },
   "outputs": [
    {
     "name": "stdout",
     "output_type": "stream",
     "text": [
      "Quasi-distribution with error mitigation: {0: 0.011835180722095105, 1: 0.48784140401270437, 2: 0.4983486948083151, 3: 0.001974720456885419}\n"
     ]
    }
   ],
   "source": [
    "with Session(service=service, backend=backend):\n",
    "    sampler = Sampler(options=options_with_em)\n",
    "    job = sampler.run(circuits=qc)\n",
    "    results_with_m3 = job.result()\n",
    "    quasi_dist_with_m3 = results_with_m3.quasi_dists[0]\n",
    "    print(f\"Quasi-distribution with error mitigation: {quasi_dist_with_m3}\")"
   ]
  },
  {
   "cell_type": "code",
   "execution_count": 15,
   "id": "abe70d27-4444-4f4e-a100-0c5090e96b64",
   "metadata": {},
   "outputs": [
    {
     "data": {
      "image/png": "[encoded data removed]",
      "text/plain": [
       "<Figure size 700x500 with 1 Axes>"
      ]
     },
     "execution_count": 15,
     "metadata": {},
     "output_type": "execute_result"
    }
   ],
   "source": [
    "# Visualize your results\n",
    "\n",
    "from qiskit.quantum_info import Statevector\n",
    "from qiskit.visualization import plot_histogram\n",
    "\n",
    "# Convert integers to binary strings \n",
    "binary_prob_dist_no_em = quasi_dist_no_em.binary_probabilities()\n",
    "binary_prob_dist_with_m3 = quasi_dist_with_m3.binary_probabilities()\n",
    "\n",
    "# Theoretical results\n",
    "qc.remove_final_measurements()\n",
    "theory_probabilities = Statevector(qc).probabilities_dict()\n",
    "qc.measure_all()\n",
    "\n",
    "# Plot all the results\n",
    "legends = [\"No error mitigation\", \"Error mitigation applied\", \"Theory\"]\n",
    "plot_histogram([binary_prob_dist_no_em, binary_prob_dist_with_m3, theory_probabilities], legend=legends)"
   ]
  },
  {
   "cell_type": "markdown",
   "id": "d3f68023-6198-445b-b0b5-609072e81762",
   "metadata": {},
   "source": [
    "You should obtain a graph that looks like so. The theory legend key has been added into this screenshot for you.\n",
    "\n",
    "<img src='data:image/png;base64,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' >"
   ]
  },
  {
   "cell_type": "code",
   "execution_count": 16,
   "id": "63300b65-0e3c-419b-8496-9591ce16a516",
   "metadata": {},
   "outputs": [
    {
     "name": "stdout",
     "output_type": "stream",
     "text": [
      "Submitting your answer. Please wait...\n",
      "Congratulations! 🎉 Your answer is correct.\n"
     ]
    }
   ],
   "source": [
    "# Run this cell to submit your answer\n",
    "from qc_grader.challenges.quantum_explorers23 import grade_badge4_code\n",
    " \n",
    "answer_code = grade_badge4_code([results_no_em, results_with_m3], [quasi_dist_no_em, quasi_dist_with_m3]) # Expected result type: List"
   ]
  },
  {
   "cell_type": "markdown",
   "id": "b1d42074-dab3-4ae9-a457-2ed2fd03353d",
   "metadata": {},
   "source": [
    "#### [Ungraded] Run your circuit on a real device!\n",
    "\n",
    "Fill in the missing code with your answers from above cells below to run your quantum circuit on a real device. Fill in the missing code with your answers from above. "
   ]
  },
  {
   "cell_type": "code",
   "execution_count": 17,
   "id": "a26d936f-0659-4cd3-8ca8-6080281d00c5",
   "metadata": {},
   "outputs": [
    {
     "name": "stdout",
     "output_type": "stream",
     "text": [
      "The least busy backend is ibmq_lima.\n"
     ]
    }
   ],
   "source": [
    "# Get the least-busy backend, this step may take a while\n",
    "real_backend = service.least_busy(min_num_qubits=2, simulator=False)\n",
    "\n",
    "print(f\"The least busy backend is {real_backend.name}.\")"
   ]
  },
  {
   "cell_type": "code",
   "execution_count": 18,
   "id": "038e8c5e-9bea-424c-b982-0cb69359899e",
   "metadata": {},
   "outputs": [
    {
     "name": "stdout",
     "output_type": "stream",
     "text": [
      "Job ID: cju7n27toe8ecfad8fcg\n",
      "Job ID: cju7n3vtoe8ecfad8fs0\n",
      "Quasi-distribution with no error mitigation: {0: 0.03675, 1: 0.457, 2: 0.49775, 3: 0.0085}\n",
      "Quasi-distribution with error mitigation: {0: 0.0018126124088571048, 1: 0.47177409977164403, 2: 0.526224770768713, 3: 0.00018851705078581452}\n"
     ]
    }
   ],
   "source": [
    "###### Add your answers from above here before running the cell #######\n",
    "from qiskit_ibm_runtime import QiskitRuntimeService, Session, Options, Sampler\n",
    "service = QiskitRuntimeService(channel='ibm_quantum')\n",
    "\n",
    "options = Options(real_backend='ibmq_lima', resilience_level=0)\n",
    "\n",
    "options_with_m3 = Options(real_backend= 'ibmq_lima', resilience_level=1)\n",
    "\n",
    "with Session(service=service, backend=real_backend):\n",
    "    sampler = Sampler(options=options)\n",
    "    job = sampler.run(circuits=qc)\n",
    "    print(f\"Job ID: {job.job_id()}\") # do not change or delete this line\n",
    "    results_no_em = job.result()\n",
    "    quasi_dist_no_em = results_no_em.quasi_dists[0]\n",
    "    \n",
    "    sampler = Sampler(options=options_with_m3)\n",
    "    job = sampler.run(circuits=qc)\n",
    "    print(f\"Job ID: {job.job_id()}\") # do not change or delete this line\n",
    "    results_with_m3 = job.result()\n",
    "    quasi_dist_with_m3 = results_with_m3.quasi_dists[0]\n",
    "    \n",
    "\n",
    "print(f\"Quasi-distribution with no error mitigation: {quasi_dist_no_em}\")\n",
    "print(f\"Quasi-distribution with error mitigation: {quasi_dist_with_m3}\")"
   ]
  },
  {
   "cell_type": "markdown",
   "id": "752776ad-c5b2-4366-a92a-40ad0f3411bc",
   "metadata": {},
   "source": [
    "While your jobs are running, you can monitor them! Simply copy the Job ID printed out for you for one of the runs and enter it into the search bar **[here](https://quantum-computing.ibm.com/jobs)**! Make sure you are logged into the IBM Quantum Platform to access this page. "
   ]
  },
  {
   "cell_type": "code",
   "execution_count": null,
   "id": "78e69942-3cf9-4351-b268-25cf85a40972",
   "metadata": {},
   "outputs": [],
   "source": [
    "# Visualize your results\n",
    "\n",
    "binary_prob_dist_no_em = quasi_dist_no_em.binary_probabilities()\n",
    "binary_prob_dist_with_m3 = quasi_dist_with_m3.binary_probabilities()\n",
    "legend = [\"No error mitigation\", \"Error mitigation applied\", \"Theory\"]\n",
    "plot_histogram([binary_prob_dist_no_em, binary_prob_dist_with_m3, theory_probabilities], legend=legend)"
   ]
  }
 ],
 "metadata": {
  "kernelspec": {
   "display_name": "Python 3 (ipykernel)",
   "language": "python",
   "name": "python3"
  },
  "language_info": {
   "codemirror_mode": {
    "name": "ipython",
    "version": 3
   },
   "file_extension": ".py",
   "mimetype": "text/x-python",
   "name": "python",
   "nbconvert_exporter": "python",
   "pygments_lexer": "ipython3",
   "version": "3.10.8"
  },
  "widgets": {
   "application/vnd.jupyter.widget-state+json": {
    "state": {
     "0acd635fd9034b068359086711701a65": {
      "model_module": "@jupyter-widgets/controls",
      "model_module_version": "2.0.0",
      "model_name": "HTMLModel",
      "state": {
       "layout": "IPY_MODEL_e6833dff9d4a4756b640ebb3523c792b",
       "style": "IPY_MODEL_9b9829ae91114cb3b3c47358f141800b",
       "value": "<p style='font-family: IBM Plex Sans, Arial, Helvetica, sans-serif; font-size: 20px; font-weight: medium;'>Circuit Properties</p>"
      }
     },
     "0e7fe380ff554c07af46aa2bf75c0311": {
      "model_module": "@jupyter-widgets/base",
      "model_module_version": "2.0.0",
      "model_name": "LayoutModel",
      "state": {}
     },
     "15902742787141d580b688b12615a828": {
      "model_module": "@jupyter-widgets/base",
      "model_module_version": "2.0.0",
      "model_name": "LayoutModel",
      "state": {
       "grid_area": "right",
       "padding": "0px 0px 0px 0px",
       "width": "70px"
      }
     },
     "34c6de28ffc44a89b6a4c50f9bba0a5c": {
      "model_module": "@jupyter-widgets/base",
      "model_module_version": "2.0.0",
      "model_name": "LayoutModel",
      "state": {
       "width": "145px"
      }
     },
     "418c18c332cc474885f143ed5907dce9": {
      "model_module": "@jupyter-widgets/controls",
      "model_module_version": "2.0.0",
      "model_name": "HTMLStyleModel",
      "state": {
       "description_width": "",
       "font_size": null,
       "text_color": null
      }
     },
     "5044278d9f204453ba594f5fd28af7d1": {
      "model_module": "@jupyter-widgets/controls",
      "model_module_version": "2.0.0",
      "model_name": "HBoxModel",
      "state": {
       "children": [
        "IPY_MODEL_cb24dc10f01b47ab8f375553e774e8d0",
        "IPY_MODEL_578a5cded99341819a20e199e8a19bf5",
        "IPY_MODEL_e75e96fabb404186a7ebe8cec493b2d5",
        "IPY_MODEL_9e7666070a5a4e089fa8fbf5e0354e6f",
        "IPY_MODEL_6489abcb741c449ca4fa3604eae8a0a0"
       ],
       "layout": "IPY_MODEL_70e1726fc83e4071b77152d6c0b7a2c5"
      }
     },
     "578a5cded99341819a20e199e8a19bf5": {
      "model_module": "@jupyter-widgets/controls",
      "model_module_version": "2.0.0",
      "model_name": "HTMLModel",
      "state": {
       "layout": "IPY_MODEL_34c6de28ffc44a89b6a4c50f9bba0a5c",
       "style": "IPY_MODEL_d1b51df905a14f27b8c58068eabaceab",
       "value": "<h5>Backend</h5>"
      }
     },
     "58f2c984d4da460aaf53fc7d106da122": {
      "model_module": "@jupyter-widgets/controls",
      "model_module_version": "2.0.0",
      "model_name": "ButtonModel",
      "state": {
       "button_style": "primary",
       "description": "Clear",
       "layout": "IPY_MODEL_15902742787141d580b688b12615a828",
       "style": "IPY_MODEL_8506a0b637c241e883a58cb4752918a6",
       "tooltip": null
      }
     },
     "6489abcb741c449ca4fa3604eae8a0a0": {
      "model_module": "@jupyter-widgets/controls",
      "model_module_version": "2.0.0",
      "model_name": "HTMLModel",
      "state": {
       "layout": "IPY_MODEL_0e7fe380ff554c07af46aa2bf75c0311",
       "style": "IPY_MODEL_db0b9363a2a74b77907512334295ae16",
       "value": "<h5>Message</h5>"
      }
     },
     "70e1726fc83e4071b77152d6c0b7a2c5": {
      "model_module": "@jupyter-widgets/base",
      "model_module_version": "2.0.0",
      "model_name": "LayoutModel",
      "state": {
       "margin": "0px 0px 0px 37px",
       "width": "600px"
      }
     },
     "80964bd664ae402ca7803060dcac02b3": {
      "model_module": "@jupyter-widgets/base",
      "model_module_version": "2.0.0",
      "model_name": "LayoutModel",
      "state": {
       "width": "95px"
      }
     },
     "8310844e687c4f3ab1880cd5b7e24786": {
      "model_module": "@jupyter-widgets/base",
      "model_module_version": "2.0.0",
      "model_name": "LayoutModel",
      "state": {
       "grid_template_areas": "\n                                       \". . . . right \"\n                                        ",
       "grid_template_columns": "20% 20% 20% 20% 20%",
       "width": "100%"
      }
     },
     "8506a0b637c241e883a58cb4752918a6": {
      "model_module": "@jupyter-widgets/controls",
      "model_module_version": "2.0.0",
      "model_name": "ButtonStyleModel",
      "state": {
       "font_family": null,
       "font_size": null,
       "font_style": null,
       "font_variant": null,
       "font_weight": null,
       "text_color": null,
       "text_decoration": null
      }
     },
     "86032c719e47461da3a776b3088cb5ec": {
      "model_module": "@jupyter-widgets/controls",
      "model_module_version": "2.0.0",
      "model_name": "HTMLStyleModel",
      "state": {
       "description_width": "",
       "font_size": null,
       "text_color": null
      }
     },
     "9b9829ae91114cb3b3c47358f141800b": {
      "model_module": "@jupyter-widgets/controls",
      "model_module_version": "2.0.0",
      "model_name": "HTMLStyleModel",
      "state": {
       "description_width": "",
       "font_size": null,
       "text_color": null
      }
     },
     "9e7666070a5a4e089fa8fbf5e0354e6f": {
      "model_module": "@jupyter-widgets/controls",
      "model_module_version": "2.0.0",
      "model_name": "HTMLModel",
      "state": {
       "layout": "IPY_MODEL_f9ad7d73dfe6485eb31069b323646169",
       "style": "IPY_MODEL_86032c719e47461da3a776b3088cb5ec",
       "value": "<h5>Queue</h5>"
      }
     },
     "cb24dc10f01b47ab8f375553e774e8d0": {
      "model_module": "@jupyter-widgets/controls",
      "model_module_version": "2.0.0",
      "model_name": "HTMLModel",
      "state": {
       "layout": "IPY_MODEL_cd5748b93914488cbda9fe597835412d",
       "style": "IPY_MODEL_fb3c1da96fc349d4a41635cacd3c0f8a",
       "value": "<h5>Job ID</h5>"
      }
     },
     "cd5748b93914488cbda9fe597835412d": {
      "model_module": "@jupyter-widgets/base",
      "model_module_version": "2.0.0",
      "model_name": "LayoutModel",
      "state": {
       "width": "190px"
      }
     },
     "d1b51df905a14f27b8c58068eabaceab": {
      "model_module": "@jupyter-widgets/controls",
      "model_module_version": "2.0.0",
      "model_name": "HTMLStyleModel",
      "state": {
       "description_width": "",
       "font_size": null,
       "text_color": null
      }
     },
     "db0b9363a2a74b77907512334295ae16": {
      "model_module": "@jupyter-widgets/controls",
      "model_module_version": "2.0.0",
      "model_name": "HTMLStyleModel",
      "state": {
       "description_width": "",
       "font_size": null,
       "text_color": null
      }
     },
     "e6833dff9d4a4756b640ebb3523c792b": {
      "model_module": "@jupyter-widgets/base",
      "model_module_version": "2.0.0",
      "model_name": "LayoutModel",
      "state": {
       "margin": "0px 0px 10px 0px"
      }
     },
     "e75e96fabb404186a7ebe8cec493b2d5": {
      "model_module": "@jupyter-widgets/controls",
      "model_module_version": "2.0.0",
      "model_name": "HTMLModel",
      "state": {
       "layout": "IPY_MODEL_80964bd664ae402ca7803060dcac02b3",
       "style": "IPY_MODEL_418c18c332cc474885f143ed5907dce9",
       "value": "<h5>Status</h5>"
      }
     },
     "f7e499745f434e51a2d74373fde5a2c3": {
      "model_module": "@jupyter-widgets/controls",
      "model_module_version": "2.0.0",
      "model_name": "GridBoxModel",
      "state": {
       "children": [
        "IPY_MODEL_58f2c984d4da460aaf53fc7d106da122"
       ],
       "layout": "IPY_MODEL_8310844e687c4f3ab1880cd5b7e24786"
      }
     },
     "f9ad7d73dfe6485eb31069b323646169": {
      "model_module": "@jupyter-widgets/base",
      "model_module_version": "2.0.0",
      "model_name": "LayoutModel",
      "state": {
       "width": "70px"
      }
     },
     "fb3c1da96fc349d4a41635cacd3c0f8a": {
      "model_module": "@jupyter-widgets/controls",
      "model_module_version": "2.0.0",
      "model_name": "HTMLStyleModel",
      "state": {
       "description_width": "",
       "font_size": null,
       "text_color": null
      }
     }
    },
    "version_major": 2,
    "version_minor": 0
   }
  }
 },
 "nbformat": 4,
 "nbformat_minor": 5
}
