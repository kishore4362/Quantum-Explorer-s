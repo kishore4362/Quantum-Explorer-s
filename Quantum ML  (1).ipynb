{
 "cells": [
  {
   "cell_type": "code",
   "execution_count": 2,
   "id": "c220b7d9-263f-4e8d-a339-6dc793e50fbc",
   "metadata": {
    "tags": []
   },
   "outputs": [],
   "source": [
    "# Importing standard Qiskit libraries\n",
    "from qiskit import QuantumCircuit, transpile\n",
    "from qiskit.tools.jupyter import *\n",
    "from qiskit.visualization import *\n",
    "from ibm_quantum_widgets import *\n",
    "\n",
    "# qiskit-ibmq-provider has been deprecated.\n",
    "# Please see the Migration Guides in https://ibm.biz/provider_migration_guide for more detail.\n",
    "from qiskit_ibm_runtime import QiskitRuntimeService, Sampler, Estimator, Session, Options\n",
    "\n",
    "# Loading your IBM Quantum account(s)\n",
    "service = QiskitRuntimeService(channel=\"ibm_quantum\")\n",
    "\n",
    "# Invoke a primitive. For more details see https://qiskit.org/documentation/partners/qiskit_ibm_runtime/tutorials.html\n",
    "# result = Sampler(\"ibmq_qasm_simulator\").run(circuits).result()"
   ]
  },
  {
   "cell_type": "markdown",
   "id": "0e34cc39-89a4-4d7f-9a58-b8d901c25840",
   "metadata": {},
   "source": [
    "<a id = \"badge5_code\"></a>\n",
    "\n",
    "<div class=\"alert alert-block alert-success\">\n",
    "    \n",
    "<b> Coding Question: Complete the code to run a Quantum Support Vector Classification (QSVC) model on dummy data.</b> \n",
    "</div>"
   ]
  },
  {
   "cell_type": "code",
   "execution_count": 4,
   "id": "e03c098e-176e-4687-b0c3-2152f650047b",
   "metadata": {},
   "outputs": [],
   "source": [
    "import numpy as np\n",
    "from qiskit_machine_learning.algorithms import QSVC\n",
    "from qiskit.circuit.library import ZZFeatureMap\n",
    "from qiskit.primitives import Sampler\n",
    "from qiskit.algorithms.state_fidelities import ComputeUncompute\n",
    "from qiskit_machine_learning.kernels import FidelityQuantumKernel,TrainableFidelityQuantumKernel\n",
    "\n",
    "\n",
    "# Define the dataset\n",
    "x_full = np.array([[1.25663706, 5.02654825, 3.76991118],\n",
    "       [3.76991118, 0.        , 0.62831853],\n",
    "       [4.08407045, 3.76991118, 1.88495559],\n",
    "       [0.62831853, 2.82743339, 2.51327412],\n",
    "       [0.9424778 , 5.96902604, 5.02654825],\n",
    "       [5.02654825, 2.51327412, 0.31415927],\n",
    "       [5.34070751, 0.62831853, 3.45575192],\n",
    "       [0.31415927, 3.45575192, 3.76991118],\n",
    "       [1.25663706, 4.39822972, 5.96902604],\n",
    "       [3.76991118, 1.25663706, 2.82743339],\n",
    "       [3.14159265, 5.34070751, 1.88495559],\n",
    "       [3.45575192, 0.31415927, 1.57079633],\n",
    "       [1.57079633, 0.        , 5.96902604],\n",
    "       [4.08407045, 3.14159265, 0.        ],\n",
    "       [1.57079633, 4.39822972, 0.9424778 ],\n",
    "       [0.        , 1.57079633, 0.31415927],\n",
    "       [5.02654825, 2.82743339, 4.71238898],\n",
    "       [2.51327412, 0.62831853, 0.62831853],\n",
    "       [3.14159265, 5.34070751, 1.88495559],\n",
    "       [5.65486678, 4.71238898, 4.08407045],\n",
    "       [0.        , 2.19911486, 3.45575192],\n",
    "       [0.62831853, 0.31415927, 3.45575192],\n",
    "       [5.65486678, 2.51327412, 5.65486678],\n",
    "       [2.19911486, 0.62831853, 5.02654825],\n",
    "       [5.34070751, 3.45575192, 4.39822972],\n",
    "       [4.08407045, 2.51327412, 4.08407045],\n",
    "       [0.62831853, 5.65486678, 4.08407045],\n",
    "       [5.96902604, 4.39822972, 0.62831853],\n",
    "       [5.96902604, 4.39822972, 5.96902604],\n",
    "       [0.        , 5.96902604, 4.08407045]])\n",
    "\n",
    "y_full = np.array([0, 0, 1, 1, 1, 1, 1, 0, 0, 0, 0, 0, 1, 0, 1, 1, 1, 1, 0, 0, 1, 1,\n",
    "       1, 0, 0, 0, 0, 1, 1, 0])\n",
    "\n",
    "# Split the dataset into a training set and a test set\n",
    "# 80% for training, 20% for testing\n",
    "train_size = int(0.8 * len(x_full))\n",
    "x_train = x_full[:train_size]\n",
    "y_train = y_full[:train_size]\n",
    "x_test = x_full[train_size:]\n",
    "y_test = y_full[train_size:]\n",
    "\n"
   ]
  },
  {
   "cell_type": "code",
   "execution_count": 10,
   "id": "1d5b244b-9bf0-4ea8-bee3-847ccafcdc67",
   "metadata": {
    "tags": []
   },
   "outputs": [
    {
     "data": {
      "image/png": "[encoded data removed]",
      "text/plain": [
       "<Figure size 640x480 with 1 Axes>"
      ]
     },
     "metadata": {},
     "output_type": "display_data"
    }
   ],
   "source": [
    "import matplotlib.pyplot as plt\n",
    "import numpy as np\n",
    "\n",
    "\n",
    "def plot_features(ax, features, labels, class_label, marker, face, edge, label):\n",
    "    # A train plot\n",
    "    ax.scatter(\n",
    "        # x coordinate of labels where class is class_label\n",
    "        features[np.where(labels[:] == class_label), 0],\n",
    "        # y coordinate of labels where class is class_label\n",
    "        features[np.where(labels[:] == class_label), 1],\n",
    "        marker=marker,\n",
    "        facecolors=face,\n",
    "        edgecolors=edge,\n",
    "        label=label, \n",
    "    )\n",
    "    \n",
    "plot_features(plt, x_train, y_train, 0, \"s\", \"w\", \"b\", \"A train\")\n",
    "plot_features(plt, x_train, y_train, 1, \"o\", \"w\", \"r\", \"B train\")\n",
    "plot_features(plt, x_test, y_test, 0, \"s\", \"b\", \"w\", \"A test\")\n",
    "plot_features(plt, x_test, y_test, 1, \"o\", \"r\", \"w\", \"B test\")\n",
    "\n"
   ]
  },
  {
   "cell_type": "code",
   "execution_count": 12,
   "id": "24166e63-537b-4b0e-9358-aea3cbb234d1",
   "metadata": {
    "tags": []
   },
   "outputs": [
    {
     "name": "stdout",
     "output_type": "stream",
     "text": [
      "QSVC classification test score: 0.8333333333333334\n"
     ]
    }
   ],
   "source": [
    "\n",
    "xfeature_map = ZZFeatureMap(feature_dimension=3, reps=2, entanglement=\"full\")\n",
    "\n",
    "sampler = Sampler()\n",
    "\n",
    "fidelity = ComputeUncompute(sampler=sampler)\n",
    "\n",
    "adhoc_kernel = FidelityQuantumKernel(fidelity=fidelity, feature_map=xfeature_map)\n",
    "\n",
    "qsvc = QSVC(quantum_kernel=adhoc_kernel)\n",
    "\n",
    "qsvc.fit(x_train, y_train)\n",
    "\n",
    "\n",
    "\n",
    "# Evaluate the performance of the model\n",
    "# You need to achieve a score of >= 0.8 to pass\n",
    "qsvc_score = qsvc.score(x_test, y_test)\n",
    "print(f\"QSVC classification test score: {qsvc_score}\")"
   ]
  },
  {
   "cell_type": "code",
   "execution_count": 13,
   "id": "398b9c3f-2978-4267-85a0-89e8cc1e1d81",
   "metadata": {},
   "outputs": [
    {
     "name": "stdout",
     "output_type": "stream",
     "text": [
      "Submitting your answer. Please wait...\n",
      "Congratulations! 🎉 Your answer is correct.\n"
     ]
    }
   ],
   "source": [
    "# Run this cell to submit your answer\n",
    "from qc_grader.challenges.quantum_explorers23 import grade_badge5_code\n",
    " \n",
    "answer_code = grade_badge5_code(qsvc) # Expected result type: QSVC "
   ]
  },
  {
   "cell_type": "markdown",
   "id": "fde89871-44c4-4948-a67f-8b9824751800",
   "metadata": {},
   "source": [
    "#### [Ungraded] Run QSVC on a real device!\n",
    "\n",
    "Run the cells below to run QSVC on a real device."
   ]
  },
  {
   "cell_type": "code",
   "execution_count": 14,
   "id": "b76c36bc-d569-4655-8237-4cf15abce68e",
   "metadata": {},
   "outputs": [
    {
     "name": "stdout",
     "output_type": "stream",
     "text": [
      "The least busy backend is ibm_lagos.\n"
     ]
    }
   ],
   "source": [
    "from qiskit_ibm_runtime import QiskitRuntimeService\n",
    "\n",
    "service = QiskitRuntimeService(channel=\"ibm_quantum\")\n",
    "\n",
    "# Get the least busy backend, this step may take a while\n",
    "real_backend = service.least_busy(min_num_qubits=3, simulator=False)\n",
    "\n",
    "print(f\"The least busy backend is {real_backend.name}.\")"
   ]
  },
  {
   "cell_type": "code",
   "execution_count": null,
   "id": "baaf6def-83dd-4f05-8d96-c059231892c4",
   "metadata": {},
   "outputs": [],
   "source": [
    "from qiskit.circuit.library import ZZFeatureMap\n",
    "from qiskit_machine_learning.algorithms import QSVC\n",
    "from qiskit_ibm_runtime import Session\n",
    "from qiskit.algorithms.state_fidelities import ComputeUncompute\n",
    "from qiskit_machine_learning.kernels import FidelityQuantumKernel\n",
    "from qiskit_ibm_runtime import Sampler\n",
    "\n",
    "fm = feature_map = ZZFeatureMap(3)\n",
    "\n",
    "with Session(service=service, backend=real_backend) as session:\n",
    "    sampler = Sampler()\n",
    "    fidelity = ComputeUncompute(sampler)\n",
    "    quantum_kernel = FidelityQuantumKernel(feature_map=fm, fidelity=fidelity)\n",
    "    qsvc = QSVC(quantum_kernel=quantum_kernel)\n",
    "    \n",
    "###### Add your answers from above here before running the cell #######\n",
    "\n",
    "qsvc.fit(x_train, y_train)\n",
    "\n",
    "# Evaluate the performance of the model\n",
    "qsvc_score = qsvc.score(x_test, y_test)\n",
    "print(f\"QSVC classification test score: {qsvc_score}\")"
   ]
  },
  {
   "cell_type": "code",
   "execution_count": null,
   "id": "73f9c051-31d9-47e9-9c3c-fb8fee7fe70b",
   "metadata": {},
   "outputs": [],
   "source": []
  }
 ],
 "metadata": {
  "kernelspec": {
   "display_name": "Python 3 (ipykernel)",
   "language": "python",
   "name": "python3"
  },
  "language_info": {
   "codemirror_mode": {
    "name": "ipython",
    "version": 3
   },
   "file_extension": ".py",
   "mimetype": "text/x-python",
   "name": "python",
   "nbconvert_exporter": "python",
   "pygments_lexer": "ipython3",
   "version": "3.10.8"
  },
  "widgets": {
   "application/vnd.jupyter.widget-state+json": {
    "state": {
     "08254d0d2e814c5999a50b5ed8a70e0f": {
      "model_module": "@jupyter-widgets/base",
      "model_module_version": "2.0.0",
      "model_name": "LayoutModel",
      "state": {
       "width": "190px"
      }
     },
     "0e4250df3eb24d3da5d44559b7d92544": {
      "model_module": "@jupyter-widgets/controls",
      "model_module_version": "2.0.0",
      "model_name": "HTMLStyleModel",
      "state": {
       "description_width": "",
       "font_size": null,
       "text_color": null
      }
     },
     "155fe61730d84ada9516caaa2e0bc24e": {
      "model_module": "@jupyter-widgets/base",
      "model_module_version": "2.0.0",
      "model_name": "LayoutModel",
      "state": {
       "width": "145px"
      }
     },
     "18517389bf014d9dbbb924309af63af3": {
      "model_module": "@jupyter-widgets/base",
      "model_module_version": "2.0.0",
      "model_name": "LayoutModel",
      "state": {
       "width": "95px"
      }
     },
     "1ace9d31f2ef4852b371cccc3dfd29fb": {
      "model_module": "@jupyter-widgets/base",
      "model_module_version": "2.0.0",
      "model_name": "LayoutModel",
      "state": {}
     },
     "27fc51c532ae482dabf10ba5bce35f97": {
      "model_module": "@jupyter-widgets/controls",
      "model_module_version": "2.0.0",
      "model_name": "HTMLModel",
      "state": {
       "layout": "IPY_MODEL_a314d2be135047509dc4c0a48f5c16e8",
       "style": "IPY_MODEL_fcdb8392ea514392acca02f99fdee22b",
       "value": "<p style='font-family: IBM Plex Sans, Arial, Helvetica, sans-serif; font-size: 20px; font-weight: medium;'>Circuit Properties</p>"
      }
     },
     "283b80c1658d49a687675c8430f1ef05": {
      "model_module": "@jupyter-widgets/base",
      "model_module_version": "2.0.0",
      "model_name": "LayoutModel",
      "state": {
       "grid_area": "right",
       "padding": "0px 0px 0px 0px",
       "width": "70px"
      }
     },
     "38fe03bb61304784a65c308d10875633": {
      "model_module": "@jupyter-widgets/controls",
      "model_module_version": "2.0.0",
      "model_name": "HTMLModel",
      "state": {
       "layout": "IPY_MODEL_18517389bf014d9dbbb924309af63af3",
       "style": "IPY_MODEL_761d315b15ed4545a984090aff1074b1",
       "value": "<h5>Status</h5>"
      }
     },
     "3fdac2f35dfd40d0b83d742ea54093d6": {
      "model_module": "@jupyter-widgets/controls",
      "model_module_version": "2.0.0",
      "model_name": "HTMLModel",
      "state": {
       "layout": "IPY_MODEL_155fe61730d84ada9516caaa2e0bc24e",
       "style": "IPY_MODEL_9799c7f8c1da499b9b6eea012ebdb684",
       "value": "<h5>Backend</h5>"
      }
     },
     "4570cef3d31a4fb7aa3b83b32d3c50e1": {
      "model_module": "@jupyter-widgets/controls",
      "model_module_version": "2.0.0",
      "model_name": "ButtonModel",
      "state": {
       "button_style": "primary",
       "description": "Clear",
       "layout": "IPY_MODEL_283b80c1658d49a687675c8430f1ef05",
       "style": "IPY_MODEL_bf437b97747c4654bf3ea6fd32a4dca9",
       "tooltip": null
      }
     },
     "54e17ad6339340149f4476106e8bb8d5": {
      "model_module": "@jupyter-widgets/controls",
      "model_module_version": "2.0.0",
      "model_name": "HTMLModel",
      "state": {
       "layout": "IPY_MODEL_1ace9d31f2ef4852b371cccc3dfd29fb",
       "style": "IPY_MODEL_0e4250df3eb24d3da5d44559b7d92544",
       "value": "<h5>Message</h5>"
      }
     },
     "6157ebe9c6c346d18d5887e835774fb6": {
      "model_module": "@jupyter-widgets/controls",
      "model_module_version": "2.0.0",
      "model_name": "HTMLModel",
      "state": {
       "layout": "IPY_MODEL_e66e00ae50fc45138b2451d511c8af57",
       "style": "IPY_MODEL_935af8f076e84933a90c837d0a32c365",
       "value": "<h5>Queue</h5>"
      }
     },
     "65b01df7dcec46e9b63e691708bbf48a": {
      "model_module": "@jupyter-widgets/controls",
      "model_module_version": "2.0.0",
      "model_name": "HBoxModel",
      "state": {
       "children": [
        "IPY_MODEL_a3735111126b4079bf271167acf02bf7",
        "IPY_MODEL_3fdac2f35dfd40d0b83d742ea54093d6",
        "IPY_MODEL_38fe03bb61304784a65c308d10875633",
        "IPY_MODEL_6157ebe9c6c346d18d5887e835774fb6",
        "IPY_MODEL_54e17ad6339340149f4476106e8bb8d5"
       ],
       "layout": "IPY_MODEL_9218b90c012b43ed9f1d9607749d1df7"
      }
     },
     "761d315b15ed4545a984090aff1074b1": {
      "model_module": "@jupyter-widgets/controls",
      "model_module_version": "2.0.0",
      "model_name": "HTMLStyleModel",
      "state": {
       "description_width": "",
       "font_size": null,
       "text_color": null
      }
     },
     "7b3230a2d476441b8c85eb054eaac7d1": {
      "model_module": "@jupyter-widgets/controls",
      "model_module_version": "2.0.0",
      "model_name": "GridBoxModel",
      "state": {
       "children": [
        "IPY_MODEL_4570cef3d31a4fb7aa3b83b32d3c50e1"
       ],
       "layout": "IPY_MODEL_c7094117b630468f8a8708d97ac14cdd"
      }
     },
     "9218b90c012b43ed9f1d9607749d1df7": {
      "model_module": "@jupyter-widgets/base",
      "model_module_version": "2.0.0",
      "model_name": "LayoutModel",
      "state": {
       "margin": "0px 0px 0px 37px",
       "width": "600px"
      }
     },
     "935af8f076e84933a90c837d0a32c365": {
      "model_module": "@jupyter-widgets/controls",
      "model_module_version": "2.0.0",
      "model_name": "HTMLStyleModel",
      "state": {
       "description_width": "",
       "font_size": null,
       "text_color": null
      }
     },
     "9799c7f8c1da499b9b6eea012ebdb684": {
      "model_module": "@jupyter-widgets/controls",
      "model_module_version": "2.0.0",
      "model_name": "HTMLStyleModel",
      "state": {
       "description_width": "",
       "font_size": null,
       "text_color": null
      }
     },
     "a314d2be135047509dc4c0a48f5c16e8": {
      "model_module": "@jupyter-widgets/base",
      "model_module_version": "2.0.0",
      "model_name": "LayoutModel",
      "state": {
       "margin": "0px 0px 10px 0px"
      }
     },
     "a3735111126b4079bf271167acf02bf7": {
      "model_module": "@jupyter-widgets/controls",
      "model_module_version": "2.0.0",
      "model_name": "HTMLModel",
      "state": {
       "layout": "IPY_MODEL_08254d0d2e814c5999a50b5ed8a70e0f",
       "style": "IPY_MODEL_b2cfb332b2374a1dad0fb318ad513b66",
       "value": "<h5>Job ID</h5>"
      }
     },
     "b2cfb332b2374a1dad0fb318ad513b66": {
      "model_module": "@jupyter-widgets/controls",
      "model_module_version": "2.0.0",
      "model_name": "HTMLStyleModel",
      "state": {
       "description_width": "",
       "font_size": null,
       "text_color": null
      }
     },
     "bf437b97747c4654bf3ea6fd32a4dca9": {
      "model_module": "@jupyter-widgets/controls",
      "model_module_version": "2.0.0",
      "model_name": "ButtonStyleModel",
      "state": {
       "font_family": null,
       "font_size": null,
       "font_style": null,
       "font_variant": null,
       "font_weight": null,
       "text_color": null,
       "text_decoration": null
      }
     },
     "c7094117b630468f8a8708d97ac14cdd": {
      "model_module": "@jupyter-widgets/base",
      "model_module_version": "2.0.0",
      "model_name": "LayoutModel",
      "state": {
       "grid_template_areas": "\n                                       \". . . . right \"\n                                        ",
       "grid_template_columns": "20% 20% 20% 20% 20%",
       "width": "100%"
      }
     },
     "e66e00ae50fc45138b2451d511c8af57": {
      "model_module": "@jupyter-widgets/base",
      "model_module_version": "2.0.0",
      "model_name": "LayoutModel",
      "state": {
       "width": "70px"
      }
     },
     "fcdb8392ea514392acca02f99fdee22b": {
      "model_module": "@jupyter-widgets/controls",
      "model_module_version": "2.0.0",
      "model_name": "HTMLStyleModel",
      "state": {
       "description_width": "",
       "font_size": null,
       "text_color": null
      }
     }
    },
    "version_major": 2,
    "version_minor": 0
   }
  }
 },
 "nbformat": 4,
 "nbformat_minor": 5
}
